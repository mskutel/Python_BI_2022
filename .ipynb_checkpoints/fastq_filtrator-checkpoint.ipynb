{
 "cells": [
  {
   "cell_type": "code",
   "execution_count": 1,
   "id": "06649b2e",
   "metadata": {},
   "outputs": [],
   "source": [
    "def gc_filtering(read, gc_bounds=(0,100)):\n",
    "    GC_num = len([GC for GC in read[1] if GC == \"G\" or GC == \"C\"])\n",
    "    read_len = len(read[1])\n",
    "    gc_content = 100 * GC_num / read_len\n",
    "    if gc_content >= gc_bounds[0] and gc_content <= gc_bounds[1]:\n",
    "        return \"passed\"\n",
    "    else:\n",
    "        return \"rejected\"\n",
    "    "
   ]
  },
  {
   "cell_type": "code",
   "execution_count": 2,
   "id": "18d4a4a9",
   "metadata": {},
   "outputs": [],
   "source": [
    "def length_filtering(read, length_bounds=(0,2**32)):\n",
    "    read_len = len(read[1])\n",
    "    if read_len >= length_bounds[0] and read_len <= length_bounds[1]:\n",
    "        return \"passed\"\n",
    "    else:\n",
    "        return \"rejected\""
   ]
  },
  {
   "cell_type": "code",
   "execution_count": 3,
   "id": "ec8aede5",
   "metadata": {},
   "outputs": [],
   "source": [
    "def quality_filtering(read, quality_threshold=0):\n",
    "    if sum([ord(i)-33 for i in read[3]])/len(read[3]) >  quality_threshold:\n",
    "        return \"passed\"\n",
    "    else:\n",
    "        return \"rejected\""
   ]
  },
  {
   "cell_type": "code",
   "execution_count": 5,
   "id": "b62ee56d",
   "metadata": {},
   "outputs": [
    {
     "data": {
      "text/plain": [
       "['@SRX079804:1:SRR292678:1:1101:21885:21885 1:N:0:1 BH:ok',\n",
       " 'ACAGCAACATAAACATGATGGGATGGCGTAAGCCCCCGAGATATCAGTTTACCCAGGATAAGAGATTAAATTATGAGCAACATTATTAA',\n",
       " '+SRX079804:1:SRR292678:1:1101:21885:21885 1:N:0:1 BH:ok',\n",
       " 'FGGGFGGGFGGGFGDFGCEBB@CCDFDDFFFFBFFGFGEFDFFFF;D@DD>C@DDGGGDFGDGG?GFGFEGFGGEF@FDGGGFGFBGGD']"
      ]
     },
     "execution_count": 5,
     "metadata": {},
     "output_type": "execute_result"
    }
   ],
   "source": [
    "with open(\"test.fastq\", 'r') as file:\n",
    "    count = len(file.readlines())/4\n",
    "    file.seek(0)\n",
    "    passed = []\n",
    "    rejected = []\n",
    "    while count != 0:\n",
    "        read = []\n",
    "        read.append(file.readline().strip())\n",
    "        read.append(file.readline().strip())\n",
    "        read.append(file.readline().strip())\n",
    "        read.append(file.readline().strip())\n",
    "        if gc_filtering(read = read, gc_bounds = gc_bounds) == \"passed\":\n",
    "            continue\n",
    "        else:\n",
    "            rejected += read\n",
    "        if length_filtering(read = read, length_bounds = length_bounds) == \"passed\":\n",
    "            continue\n",
    "        else:\n",
    "            rejected += read\n",
    "        if quality_filtering(read = read, quality_threshold = quality_threshold) == \"passed\":\n",
    "            continue\n",
    "        else:\n",
    "            rejected += read\n",
    "        break\n",
    "read\n",
    "\n",
    "\n",
    "#Убрать в начале подное прочтение файла \n",
    "#Довести до ума распределение "
   ]
  },
  {
   "cell_type": "code",
   "execution_count": 2,
   "id": "074b4838",
   "metadata": {},
   "outputs": [
    {
     "data": {
      "text/plain": [
       "'@SRX079804:1:SRR292678:1:1101:21885:21885 1:N:0:1 BH:ok'"
      ]
     },
     "execution_count": 2,
     "metadata": {},
     "output_type": "execute_result"
    }
   ],
   "source": [
    "with open(\"test.fastq\", 'r') as file:\n",
    "    text = file.readline().strip()\n",
    "text"
   ]
  },
  {
   "cell_type": "code",
   "execution_count": null,
   "id": "2171a696",
   "metadata": {},
   "outputs": [],
   "source": [
    "def main(input_fastq, output_file_prefix, gc_bounds=(0,100),length_bounds=(0,2**32),quality_threshold=0, \n",
    "         save_filtered=False):\n",
    "    with open(\"test.fastq\", 'r') as file:\n",
    "    count = len(file.readlines())/4\n",
    "    while count != 0:\n",
    "        for line in file:\n",
    "            read=[]\n",
    "            read.append(file.readline().strip())\n",
    "            read.append(file.readline().strip())\n",
    "            read.append(file.readline().strip())\n",
    "            read.append(file.readline().strip())\n",
    "        read = gc_filtering(read = read, gc_bounds = gc_bounds)\n",
    "        read = length_filtering(read = read, length_bounds = length_bounds)\n",
    "        read = quality_filtering(read = read, quality_threshold = quality_threshold)"
   ]
  },
  {
   "cell_type": "code",
   "execution_count": null,
   "id": "368d06f2",
   "metadata": {},
   "outputs": [],
   "source": []
  }
 ],
 "metadata": {
  "kernelspec": {
   "display_name": "Python 3",
   "language": "python",
   "name": "python3"
  },
  "language_info": {
   "codemirror_mode": {
    "name": "ipython",
    "version": 3
   },
   "file_extension": ".py",
   "mimetype": "text/x-python",
   "name": "python",
   "nbconvert_exporter": "python",
   "pygments_lexer": "ipython3",
   "version": "3.8.8"
  }
 },
 "nbformat": 4,
 "nbformat_minor": 5
}
